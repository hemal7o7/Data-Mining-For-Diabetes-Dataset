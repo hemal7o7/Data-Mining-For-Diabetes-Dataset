{
 "cells": [
  {
   "cell_type": "code",
   "execution_count": 1,
   "metadata": {},
   "outputs": [],
   "source": [
    "# For compatibility with Python 2\n",
    "from __future__ import print_function\n",
    "\n",
    "import pandas as pd\n",
    "import numpy as np\n",
    "\n",
    "# To not to show warnings\n",
    "import warnings\n",
    "from sklearn.exceptions import ConvergenceWarning\n",
    "warnings.filterwarnings('ignore', category=ConvergenceWarning)\n",
    "\n",
    "# To load datasets\n",
    "from sklearn import datasets\n",
    "\n",
    "# To import the classifier (Neural Networks)\n",
    "import sklearn.neural_network as NN\n",
    "\n",
    "# To scale the data\n",
    "from sklearn.preprocessing import StandardScaler, MinMaxScaler\n",
    "\n",
    "# To measure accuracy\n",
    "from sklearn import metrics\n",
    "from sklearn import model_selection\n",
    "\n",
    "# To split data to train and test\n",
    "from sklearn.model_selection import train_test_split\n",
    "\n",
    "# To perform parameter search\n",
    "from sklearn.model_selection import GridSearchCV\n",
    "\n",
    "# To support plots\n",
    "import matplotlib.pyplot as plt\n",
    "\n",
    "# To display all the plots inline\n",
    "%matplotlib inline\n",
    "\n",
    "from sklearn.model_selection import GridSearchCV"
   ]
  },
  {
   "cell_type": "code",
   "execution_count": 2,
   "metadata": {},
   "outputs": [],
   "source": [
    "# To increase quality of figures\n",
    "plt.rcParams[\"figure.figsize\"] = (10, 5)"
   ]
  },
  {
   "cell_type": "code",
   "execution_count": 3,
   "metadata": {},
   "outputs": [
    {
     "data": {
      "text/plain": [
       "x1     512\n",
       "x2       0\n",
       "x3       0\n",
       "x4     515\n",
       "x5       0\n",
       "x6       0\n",
       "x7       0\n",
       "x8     134\n",
       "x9       0\n",
       "x10      0\n",
       "x11      0\n",
       "x12      0\n",
       "x13      0\n",
       "x14      0\n",
       "x15      0\n",
       "x16      0\n",
       "x17      0\n",
       "x18      0\n",
       "x19      0\n",
       "x20      0\n",
       "x21      0\n",
       "x22      0\n",
       "y        0\n",
       "dtype: int64"
      ]
     },
     "execution_count": 3,
     "metadata": {},
     "output_type": "execute_result"
    }
   ],
   "source": [
    "# loading data\n",
    "df1  = pd.read_excel(\"Dataset.xlsx\")\n",
    "df1 = df1.replace(to_replace='None', value=np.nan)\n",
    "df1.isnull().sum()"
   ]
  },
  {
   "cell_type": "code",
   "execution_count": 4,
   "metadata": {},
   "outputs": [
    {
     "data": {
      "text/plain": [
       "0    7580\n",
       "Name: y, dtype: int64"
      ]
     },
     "execution_count": 4,
     "metadata": {},
     "output_type": "execute_result"
    }
   ],
   "source": [
    "df1['y'].value_counts()"
   ]
  },
  {
   "cell_type": "code",
   "execution_count": 5,
   "metadata": {},
   "outputs": [
    {
     "data": {
      "text/plain": [
       "(0    0.0\n",
       " dtype: float64,\n",
       " 0    1.0\n",
       " dtype: float64,\n",
       " 0    0.0\n",
       " dtype: float64)"
      ]
     },
     "execution_count": 5,
     "metadata": {},
     "output_type": "execute_result"
    }
   ],
   "source": [
    "a = df1['x1'].mode()\n",
    "b = df1['x4'].mode()\n",
    "c= df1['x8'].mode()\n",
    "a,b,c"
   ]
  },
  {
   "cell_type": "code",
   "execution_count": 6,
   "metadata": {},
   "outputs": [],
   "source": [
    "df1['x1'] = df1['x1'].replace(to_replace=np.nan, value=0)\n",
    "df1['x4'] = df1['x4'].replace(to_replace=np.nan, value=1)\n",
    "df1['x8'] = df1['x8'].replace(to_replace=np.nan, value=0)\n",
    "#df['x1'].apply(lambda x: x.fillna(a, inplace=True))\n",
    "# df1.isnull().sum()"
   ]
  },
  {
   "cell_type": "code",
   "execution_count": 7,
   "metadata": {},
   "outputs": [],
   "source": [
    "# # loading data\n",
    "df0  = pd.read_excel(\"Dataset.xlsx\",sheet_name = 1)\n",
    "df0 = df0.replace(to_replace='None', value=np.nan)\n",
    "# df0.isnull().sum()  "
   ]
  },
  {
   "cell_type": "code",
   "execution_count": 8,
   "metadata": {},
   "outputs": [
    {
     "data": {
      "text/plain": [
       "(0    0.0\n",
       " dtype: float64,\n",
       " 0    4.0\n",
       " dtype: float64,\n",
       " 0    0.0\n",
       " dtype: float64)"
      ]
     },
     "execution_count": 8,
     "metadata": {},
     "output_type": "execute_result"
    }
   ],
   "source": [
    "a = df0['x1'].mode()\n",
    "b = df0['x4'].mode()\n",
    "c= df0['x8'].mode()\n",
    "a,b,c"
   ]
  },
  {
   "cell_type": "code",
   "execution_count": 9,
   "metadata": {},
   "outputs": [],
   "source": [
    "df0['x1'] = df0['x1'].replace(to_replace=np.nan, value=0)\n",
    "df0['x4'] = df0['x4'].replace(to_replace=np.nan, value=4)\n",
    "df0['x8'] = df0['x8'].replace(to_replace=np.nan, value=0)\n",
    "#df['x1'].apply(lambda x: x.fillna(a, inplace=True))\n",
    "# df1.isnull().sum()"
   ]
  },
  {
   "cell_type": "code",
   "execution_count": 10,
   "metadata": {},
   "outputs": [
    {
     "data": {
      "text/plain": [
       "x1     0\n",
       "x2     0\n",
       "x3     0\n",
       "x4     0\n",
       "x5     0\n",
       "x6     0\n",
       "x7     0\n",
       "x8     0\n",
       "x9     0\n",
       "x10    0\n",
       "x11    0\n",
       "x12    0\n",
       "x13    0\n",
       "x14    0\n",
       "x15    0\n",
       "x16    0\n",
       "x17    0\n",
       "x18    0\n",
       "x19    0\n",
       "x20    0\n",
       "x21    0\n",
       "x22    0\n",
       "y      0\n",
       "dtype: int64"
      ]
     },
     "execution_count": 10,
     "metadata": {},
     "output_type": "execute_result"
    }
   ],
   "source": [
    "df = df1.append(df0, ignore_index = True)\n",
    "df.isnull().sum()  "
   ]
  },
  {
   "cell_type": "code",
   "execution_count": 11,
   "metadata": {},
   "outputs": [
    {
     "data": {
      "text/plain": [
       "(14299, 14299)"
      ]
     },
     "execution_count": 11,
     "metadata": {},
     "output_type": "execute_result"
    }
   ],
   "source": [
    "X = df.drop(\"y\",axis = 1)\n",
    "y = df[\"y\"]\n",
    "\n",
    "len(X),len(y)"
   ]
  },
  {
   "cell_type": "code",
   "execution_count": 12,
   "metadata": {},
   "outputs": [
    {
     "data": {
      "text/html": [
       "<div>\n",
       "<style scoped>\n",
       "    .dataframe tbody tr th:only-of-type {\n",
       "        vertical-align: middle;\n",
       "    }\n",
       "\n",
       "    .dataframe tbody tr th {\n",
       "        vertical-align: top;\n",
       "    }\n",
       "\n",
       "    .dataframe thead th {\n",
       "        text-align: right;\n",
       "    }\n",
       "</style>\n",
       "<table border=\"1\" class=\"dataframe\">\n",
       "  <thead>\n",
       "    <tr style=\"text-align: right;\">\n",
       "      <th></th>\n",
       "      <th>x1</th>\n",
       "      <th>x2</th>\n",
       "      <th>x3</th>\n",
       "      <th>x4</th>\n",
       "      <th>x5</th>\n",
       "      <th>x6</th>\n",
       "      <th>x7</th>\n",
       "      <th>x8</th>\n",
       "      <th>x9</th>\n",
       "      <th>x10</th>\n",
       "      <th>...</th>\n",
       "      <th>x13</th>\n",
       "      <th>x14</th>\n",
       "      <th>x15</th>\n",
       "      <th>x16</th>\n",
       "      <th>x17</th>\n",
       "      <th>x18</th>\n",
       "      <th>x19</th>\n",
       "      <th>x20</th>\n",
       "      <th>x21</th>\n",
       "      <th>x22</th>\n",
       "    </tr>\n",
       "  </thead>\n",
       "  <tbody>\n",
       "    <tr>\n",
       "      <th>count</th>\n",
       "      <td>14299.000000</td>\n",
       "      <td>14299.000000</td>\n",
       "      <td>14299.000000</td>\n",
       "      <td>14299.000000</td>\n",
       "      <td>14299.000000</td>\n",
       "      <td>14299.000000</td>\n",
       "      <td>14299.000000</td>\n",
       "      <td>14299.000000</td>\n",
       "      <td>14299.000000</td>\n",
       "      <td>14299.000000</td>\n",
       "      <td>...</td>\n",
       "      <td>14299.000000</td>\n",
       "      <td>1.429900e+04</td>\n",
       "      <td>14299.000000</td>\n",
       "      <td>14299.000000</td>\n",
       "      <td>14299.000000</td>\n",
       "      <td>14299.000000</td>\n",
       "      <td>14299.000000</td>\n",
       "      <td>14299.000000</td>\n",
       "      <td>14299.000000</td>\n",
       "      <td>14299.000000</td>\n",
       "    </tr>\n",
       "    <tr>\n",
       "      <th>mean</th>\n",
       "      <td>0.737604</td>\n",
       "      <td>3.442129</td>\n",
       "      <td>0.842926</td>\n",
       "      <td>4.503672</td>\n",
       "      <td>2.282607</td>\n",
       "      <td>0.387090</td>\n",
       "      <td>0.729422</td>\n",
       "      <td>1.321561</td>\n",
       "      <td>1.504161</td>\n",
       "      <td>1.994895</td>\n",
       "      <td>...</td>\n",
       "      <td>126.920064</td>\n",
       "      <td>5.925321e+05</td>\n",
       "      <td>33.006574</td>\n",
       "      <td>5928.335758</td>\n",
       "      <td>383.361354</td>\n",
       "      <td>132.069655</td>\n",
       "      <td>2.018395</td>\n",
       "      <td>5.012370</td>\n",
       "      <td>10.030157</td>\n",
       "      <td>7.977387</td>\n",
       "    </tr>\n",
       "    <tr>\n",
       "      <th>std</th>\n",
       "      <td>1.442067</td>\n",
       "      <td>3.581933</td>\n",
       "      <td>1.149212</td>\n",
       "      <td>2.891890</td>\n",
       "      <td>1.145670</td>\n",
       "      <td>1.113519</td>\n",
       "      <td>0.444274</td>\n",
       "      <td>5.189334</td>\n",
       "      <td>1.123401</td>\n",
       "      <td>1.422366</td>\n",
       "      <td>...</td>\n",
       "      <td>41.367818</td>\n",
       "      <td>3.351653e+05</td>\n",
       "      <td>8.297321</td>\n",
       "      <td>31764.374618</td>\n",
       "      <td>1489.200039</td>\n",
       "      <td>38.280422</td>\n",
       "      <td>0.991153</td>\n",
       "      <td>0.994702</td>\n",
       "      <td>1.990353</td>\n",
       "      <td>1.613688</td>\n",
       "    </tr>\n",
       "    <tr>\n",
       "      <th>min</th>\n",
       "      <td>0.000000</td>\n",
       "      <td>0.000000</td>\n",
       "      <td>0.000000</td>\n",
       "      <td>0.000000</td>\n",
       "      <td>0.000000</td>\n",
       "      <td>0.000000</td>\n",
       "      <td>0.000000</td>\n",
       "      <td>0.000000</td>\n",
       "      <td>0.000000</td>\n",
       "      <td>0.000000</td>\n",
       "      <td>...</td>\n",
       "      <td>53.000000</td>\n",
       "      <td>4.325700e+04</td>\n",
       "      <td>3.000000</td>\n",
       "      <td>0.000000</td>\n",
       "      <td>0.000000</td>\n",
       "      <td>3.000000</td>\n",
       "      <td>-1.884801</td>\n",
       "      <td>1.450000</td>\n",
       "      <td>2.900000</td>\n",
       "      <td>2.360000</td>\n",
       "    </tr>\n",
       "    <tr>\n",
       "      <th>25%</th>\n",
       "      <td>0.000000</td>\n",
       "      <td>1.000000</td>\n",
       "      <td>0.000000</td>\n",
       "      <td>2.000000</td>\n",
       "      <td>2.000000</td>\n",
       "      <td>0.000000</td>\n",
       "      <td>0.000000</td>\n",
       "      <td>0.000000</td>\n",
       "      <td>0.000000</td>\n",
       "      <td>1.000000</td>\n",
       "      <td>...</td>\n",
       "      <td>97.000000</td>\n",
       "      <td>3.640510e+05</td>\n",
       "      <td>28.000000</td>\n",
       "      <td>0.000000</td>\n",
       "      <td>0.000000</td>\n",
       "      <td>126.000000</td>\n",
       "      <td>1.348498</td>\n",
       "      <td>4.350000</td>\n",
       "      <td>8.690000</td>\n",
       "      <td>6.900000</td>\n",
       "    </tr>\n",
       "    <tr>\n",
       "      <th>50%</th>\n",
       "      <td>0.000000</td>\n",
       "      <td>3.000000</td>\n",
       "      <td>0.000000</td>\n",
       "      <td>4.000000</td>\n",
       "      <td>2.000000</td>\n",
       "      <td>0.000000</td>\n",
       "      <td>1.000000</td>\n",
       "      <td>0.000000</td>\n",
       "      <td>2.000000</td>\n",
       "      <td>2.000000</td>\n",
       "      <td>...</td>\n",
       "      <td>123.000000</td>\n",
       "      <td>5.555560e+05</td>\n",
       "      <td>31.000000</td>\n",
       "      <td>0.000000</td>\n",
       "      <td>0.000000</td>\n",
       "      <td>126.000000</td>\n",
       "      <td>2.011234</td>\n",
       "      <td>5.010000</td>\n",
       "      <td>10.040000</td>\n",
       "      <td>7.970000</td>\n",
       "    </tr>\n",
       "    <tr>\n",
       "      <th>75%</th>\n",
       "      <td>1.000000</td>\n",
       "      <td>4.000000</td>\n",
       "      <td>2.000000</td>\n",
       "      <td>6.000000</td>\n",
       "      <td>3.000000</td>\n",
       "      <td>0.000000</td>\n",
       "      <td>1.000000</td>\n",
       "      <td>0.000000</td>\n",
       "      <td>3.000000</td>\n",
       "      <td>3.000000</td>\n",
       "      <td>...</td>\n",
       "      <td>154.000000</td>\n",
       "      <td>7.386170e+05</td>\n",
       "      <td>41.000000</td>\n",
       "      <td>0.000000</td>\n",
       "      <td>0.000000</td>\n",
       "      <td>151.000000</td>\n",
       "      <td>2.700124</td>\n",
       "      <td>5.690000</td>\n",
       "      <td>11.370000</td>\n",
       "      <td>9.080000</td>\n",
       "    </tr>\n",
       "    <tr>\n",
       "      <th>max</th>\n",
       "      <td>7.000000</td>\n",
       "      <td>15.000000</td>\n",
       "      <td>6.000000</td>\n",
       "      <td>12.000000</td>\n",
       "      <td>5.000000</td>\n",
       "      <td>4.000000</td>\n",
       "      <td>1.000000</td>\n",
       "      <td>40.000000</td>\n",
       "      <td>3.000000</td>\n",
       "      <td>4.000000</td>\n",
       "      <td>...</td>\n",
       "      <td>283.000000</td>\n",
       "      <td>4.291793e+06</td>\n",
       "      <td>50.000000</td>\n",
       "      <td>314156.000000</td>\n",
       "      <td>12252.000000</td>\n",
       "      <td>311.000000</td>\n",
       "      <td>5.664434</td>\n",
       "      <td>8.900000</td>\n",
       "      <td>18.460000</td>\n",
       "      <td>13.820000</td>\n",
       "    </tr>\n",
       "  </tbody>\n",
       "</table>\n",
       "<p>8 rows × 22 columns</p>\n",
       "</div>"
      ],
      "text/plain": [
       "                 x1            x2            x3            x4            x5  \\\n",
       "count  14299.000000  14299.000000  14299.000000  14299.000000  14299.000000   \n",
       "mean       0.737604      3.442129      0.842926      4.503672      2.282607   \n",
       "std        1.442067      3.581933      1.149212      2.891890      1.145670   \n",
       "min        0.000000      0.000000      0.000000      0.000000      0.000000   \n",
       "25%        0.000000      1.000000      0.000000      2.000000      2.000000   \n",
       "50%        0.000000      3.000000      0.000000      4.000000      2.000000   \n",
       "75%        1.000000      4.000000      2.000000      6.000000      3.000000   \n",
       "max        7.000000     15.000000      6.000000     12.000000      5.000000   \n",
       "\n",
       "                 x6            x7            x8            x9           x10  \\\n",
       "count  14299.000000  14299.000000  14299.000000  14299.000000  14299.000000   \n",
       "mean       0.387090      0.729422      1.321561      1.504161      1.994895   \n",
       "std        1.113519      0.444274      5.189334      1.123401      1.422366   \n",
       "min        0.000000      0.000000      0.000000      0.000000      0.000000   \n",
       "25%        0.000000      0.000000      0.000000      0.000000      1.000000   \n",
       "50%        0.000000      1.000000      0.000000      2.000000      2.000000   \n",
       "75%        0.000000      1.000000      0.000000      3.000000      3.000000   \n",
       "max        4.000000      1.000000     40.000000      3.000000      4.000000   \n",
       "\n",
       "       ...           x13           x14           x15            x16  \\\n",
       "count  ...  14299.000000  1.429900e+04  14299.000000   14299.000000   \n",
       "mean   ...    126.920064  5.925321e+05     33.006574    5928.335758   \n",
       "std    ...     41.367818  3.351653e+05      8.297321   31764.374618   \n",
       "min    ...     53.000000  4.325700e+04      3.000000       0.000000   \n",
       "25%    ...     97.000000  3.640510e+05     28.000000       0.000000   \n",
       "50%    ...    123.000000  5.555560e+05     31.000000       0.000000   \n",
       "75%    ...    154.000000  7.386170e+05     41.000000       0.000000   \n",
       "max    ...    283.000000  4.291793e+06     50.000000  314156.000000   \n",
       "\n",
       "                x17           x18           x19           x20           x21  \\\n",
       "count  14299.000000  14299.000000  14299.000000  14299.000000  14299.000000   \n",
       "mean     383.361354    132.069655      2.018395      5.012370     10.030157   \n",
       "std     1489.200039     38.280422      0.991153      0.994702      1.990353   \n",
       "min        0.000000      3.000000     -1.884801      1.450000      2.900000   \n",
       "25%        0.000000    126.000000      1.348498      4.350000      8.690000   \n",
       "50%        0.000000    126.000000      2.011234      5.010000     10.040000   \n",
       "75%        0.000000    151.000000      2.700124      5.690000     11.370000   \n",
       "max    12252.000000    311.000000      5.664434      8.900000     18.460000   \n",
       "\n",
       "                x22  \n",
       "count  14299.000000  \n",
       "mean       7.977387  \n",
       "std        1.613688  \n",
       "min        2.360000  \n",
       "25%        6.900000  \n",
       "50%        7.970000  \n",
       "75%        9.080000  \n",
       "max       13.820000  \n",
       "\n",
       "[8 rows x 22 columns]"
      ]
     },
     "execution_count": 12,
     "metadata": {},
     "output_type": "execute_result"
    }
   ],
   "source": [
    "X.describe()"
   ]
  },
  {
   "cell_type": "code",
   "execution_count": 13,
   "metadata": {},
   "outputs": [],
   "source": [
    "X_train, X_test, y_train, y_test = train_test_split(X, y, test_size=0.22, random_state=345)"
   ]
  },
  {
   "cell_type": "code",
   "execution_count": 14,
   "metadata": {},
   "outputs": [
    {
     "name": "stdout",
     "output_type": "stream",
     "text": [
      "Train score: 0.8324217699273738\n",
      "Test score: 0.8264462809917356\n"
     ]
    }
   ],
   "source": [
    "from sklearn.ensemble import AdaBoostClassifier\n",
    "model = AdaBoostClassifier(n_estimators=100,learning_rate=1.1,algorithm='SAMME.R')\n",
    "\n",
    "\n",
    "model.fit(X_train, y_train)\n",
    "print('Train score:', model.score(X_train, y_train))\n",
    "print('Test score:', model.score(X_test, y_test))"
   ]
  },
  {
   "cell_type": "code",
   "execution_count": 15,
   "metadata": {},
   "outputs": [
    {
     "name": "stdout",
     "output_type": "stream",
     "text": [
      "Optimal parameters: {'algorithm': 'SAMME.R', 'learning_rate': 1, 'n_estimators': 106}\n"
     ]
    }
   ],
   "source": [
    "from sklearn import tree\n",
    "\n",
    "model = AdaBoostClassifier()\n",
    "model1 = GridSearchCV(estimator =model,\n",
    "                         cv=7,\n",
    "                         n_jobs=-1,\n",
    "                         param_grid={\n",
    "                            'learning_rate': [1,1.1,0.1,10],\n",
    "                            'n_estimators': range(100, 110),\n",
    "                            'algorithm':['SAMME','SAMME.R']\n",
    "                        })\n",
    "model1.fit(X_train, y_train)\n",
    "print('Optimal parameters:', model1.best_params_)"
   ]
  },
  {
   "cell_type": "code",
   "execution_count": 16,
   "metadata": {},
   "outputs": [
    {
     "name": "stdout",
     "output_type": "stream",
     "text": [
      "Train score: 0.8328700797991572\n",
      "Test score: 0.8270820089001907\n",
      "Full Data score: 0.8315966151479124\n"
     ]
    }
   ],
   "source": [
    "print('Train score:', model1.score(X_train, y_train))\n",
    "print('Test score:', model1.score(X_test, y_test))\n",
    "print('Full Data score:', model1.score(X, y))\n",
    "y_test_predict = model1.predict(X_test)\n",
    "y_predict = model1.predict(X)"
   ]
  },
  {
   "cell_type": "code",
   "execution_count": 17,
   "metadata": {},
   "outputs": [
    {
     "name": "stdout",
     "output_type": "stream",
     "text": [
      "Balanced Accuracy Score Test data 0.826394344069128\n"
     ]
    }
   ],
   "source": [
    "from sklearn.metrics import balanced_accuracy_score\n",
    "print('Balanced Accuracy Score Test data', balanced_accuracy_score(y_test,y_test_predict))      "
   ]
  },
  {
   "cell_type": "code",
   "execution_count": 18,
   "metadata": {},
   "outputs": [
    {
     "name": "stdout",
     "output_type": "stream",
     "text": [
      "Confusion matrix\n",
      "Predicted     0     1\n",
      "Actual               \n",
      "0          1400   272\n",
      "1           272  1202\n"
     ]
    }
   ],
   "source": [
    "# Making the Confusion Matrix\n",
    "from sklearn.metrics import confusion_matrix\n",
    "print('Confusion matrix')\n",
    "df = pd.DataFrame({'y_Actual':y_test, 'y_Predicted':y_test_predict})\n",
    "confusion_matrix = pd.crosstab(df['y_Actual'], df['y_Predicted'], rownames=['Actual'], colnames=['Predicted'])\n",
    "print (confusion_matrix)"
   ]
  },
  {
   "cell_type": "code",
   "execution_count": 37,
   "metadata": {},
   "outputs": [
    {
     "data": {
      "image/png": "[encoded data removed]",
      "text/plain": [
       "<Figure size 720x360 with 1 Axes>"
      ]
     },
     "metadata": {
      "needs_background": "light"
     },
     "output_type": "display_data"
    }
   ],
   "source": [
    "def plot_roc_curve(y_true, y_prob):\n",
    "    # ROC curve code here is for 2 classes only\n",
    "    if len(np.unique(y)) == 2: \n",
    "        fpr, tpr, threshold = metrics.roc_curve(y_true, y_prob)\n",
    "        roc_auc = metrics.auc(fpr, tpr)\n",
    "        plt.title('Receiver Operating Characteristic')\n",
    "        plt.plot(fpr, tpr, 'b', label='AUC = %0.2f' % roc_auc)\n",
    "        plt.legend(loc='lower right')\n",
    "        plt.plot([0, 1], [0, 1], 'r--')\n",
    "        plt.xlim([-0.01, 1.01])\n",
    "        plt.ylim([-0.01, 1.01])\n",
    "        plt.ylabel('True Positive Rate')\n",
    "        plt.xlabel('False Positive Rate')\n",
    "        plt.show()\n",
    "        \n",
    "plot_roc_curve(y_test,y_test_predict)"
   ]
  },
  {
   "cell_type": "code",
   "execution_count": 38,
   "metadata": {},
   "outputs": [
    {
     "data": {
      "image/png": "[encoded data removed]",
      "text/plain": [
       "<Figure size 720x360 with 1 Axes>"
      ]
     },
     "metadata": {
      "needs_background": "light"
     },
     "output_type": "display_data"
    }
   ],
   "source": [
    "plot_roc_curve(y,y_predict)"
   ]
  },
  {
   "cell_type": "code",
   "execution_count": 39,
   "metadata": {},
   "outputs": [],
   "source": [
    "dff = pd.read_excel('Dataset.xlsx',sheet_name=2)\n",
    "dff = dff.drop('y',axis = 1)\n",
    "dff = dff.replace(to_replace='None', value=np.nan)\n",
    "\n",
    "# dff.isnull().sum()"
   ]
  },
  {
   "cell_type": "code",
   "execution_count": 40,
   "metadata": {},
   "outputs": [],
   "source": [
    "X_unlabelled = dff.drop(['instance'],axis = 1)\n",
    "df3 = X_unlabelled"
   ]
  },
  {
   "cell_type": "code",
   "execution_count": 41,
   "metadata": {},
   "outputs": [
    {
     "data": {
      "text/plain": [
       "x1     0\n",
       "x2     0\n",
       "x3     0\n",
       "x4     0\n",
       "x5     0\n",
       "x6     0\n",
       "x7     0\n",
       "x8     0\n",
       "x9     0\n",
       "x10    0\n",
       "x11    0\n",
       "x12    0\n",
       "x13    0\n",
       "x14    0\n",
       "x15    0\n",
       "x16    0\n",
       "x17    0\n",
       "x18    0\n",
       "x19    0\n",
       "x20    0\n",
       "x21    0\n",
       "x22    0\n",
       "dtype: int64"
      ]
     },
     "execution_count": 41,
     "metadata": {},
     "output_type": "execute_result"
    }
   ],
   "source": [
    "df3['x1'] = df3['x1'].replace(to_replace=np.nan, value=0)\n",
    "df3['x4'] = df3['x4'].replace(to_replace=np.nan, value=4)\n",
    "df3['x8'] = df3['x8'].replace(to_replace=np.nan, value=0)\n",
    "#df['x1'].apply(lambda x: x.fillna(a, inplace=True))\n",
    "df3.isnull().sum()"
   ]
  },
  {
   "cell_type": "code",
   "execution_count": 42,
   "metadata": {},
   "outputs": [
    {
     "data": {
      "text/plain": [
       "5000"
      ]
     },
     "execution_count": 42,
     "metadata": {},
     "output_type": "execute_result"
    }
   ],
   "source": [
    "dff1 = model1.predict(df3)\n",
    "len(dff1)"
   ]
  },
  {
   "cell_type": "code",
   "execution_count": 43,
   "metadata": {},
   "outputs": [
    {
     "data": {
      "text/plain": [
       "5000"
      ]
     },
     "execution_count": 43,
     "metadata": {},
     "output_type": "execute_result"
    }
   ],
   "source": [
    "dx1 = dff[\"instance\"].to_numpy()\n",
    "dff3 = pd.DataFrame({'Instance':dx1,\"y\":dff1})\n",
    "len(dff3)"
   ]
  },
  {
   "cell_type": "code",
   "execution_count": 44,
   "metadata": {},
   "outputs": [],
   "source": [
    "dff3.to_csv(\"BMI555IEE520BMI555Report2020HemalChovatiya.csv\")"
   ]
  },
  {
   "cell_type": "code",
   "execution_count": 45,
   "metadata": {},
   "outputs": [
    {
     "data": {
      "text/plain": [
       "0    3978\n",
       "1    1022\n",
       "Name: y, dtype: int64"
      ]
     },
     "execution_count": 45,
     "metadata": {},
     "output_type": "execute_result"
    }
   ],
   "source": [
    "dff3[\"y\"].value_counts()"
   ]
  },
  {
   "cell_type": "code",
   "execution_count": 46,
   "metadata": {},
   "outputs": [
    {
     "data": {
      "text/html": [
       "<div>\n",
       "<style scoped>\n",
       "    .dataframe tbody tr th:only-of-type {\n",
       "        vertical-align: middle;\n",
       "    }\n",
       "\n",
       "    .dataframe tbody tr th {\n",
       "        vertical-align: top;\n",
       "    }\n",
       "\n",
       "    .dataframe thead th {\n",
       "        text-align: right;\n",
       "    }\n",
       "</style>\n",
       "<table border=\"1\" class=\"dataframe\">\n",
       "  <thead>\n",
       "    <tr style=\"text-align: right;\">\n",
       "      <th></th>\n",
       "      <th>Instance</th>\n",
       "      <th>y</th>\n",
       "    </tr>\n",
       "  </thead>\n",
       "  <tbody>\n",
       "    <tr>\n",
       "      <th>0</th>\n",
       "      <td>1</td>\n",
       "      <td>0</td>\n",
       "    </tr>\n",
       "    <tr>\n",
       "      <th>1</th>\n",
       "      <td>2</td>\n",
       "      <td>0</td>\n",
       "    </tr>\n",
       "    <tr>\n",
       "      <th>2</th>\n",
       "      <td>3</td>\n",
       "      <td>1</td>\n",
       "    </tr>\n",
       "    <tr>\n",
       "      <th>3</th>\n",
       "      <td>4</td>\n",
       "      <td>0</td>\n",
       "    </tr>\n",
       "    <tr>\n",
       "      <th>4</th>\n",
       "      <td>5</td>\n",
       "      <td>0</td>\n",
       "    </tr>\n",
       "    <tr>\n",
       "      <th>...</th>\n",
       "      <td>...</td>\n",
       "      <td>...</td>\n",
       "    </tr>\n",
       "    <tr>\n",
       "      <th>4995</th>\n",
       "      <td>4996</td>\n",
       "      <td>0</td>\n",
       "    </tr>\n",
       "    <tr>\n",
       "      <th>4996</th>\n",
       "      <td>4997</td>\n",
       "      <td>0</td>\n",
       "    </tr>\n",
       "    <tr>\n",
       "      <th>4997</th>\n",
       "      <td>4998</td>\n",
       "      <td>0</td>\n",
       "    </tr>\n",
       "    <tr>\n",
       "      <th>4998</th>\n",
       "      <td>4999</td>\n",
       "      <td>0</td>\n",
       "    </tr>\n",
       "    <tr>\n",
       "      <th>4999</th>\n",
       "      <td>5000</td>\n",
       "      <td>0</td>\n",
       "    </tr>\n",
       "  </tbody>\n",
       "</table>\n",
       "<p>5000 rows × 2 columns</p>\n",
       "</div>"
      ],
      "text/plain": [
       "      Instance  y\n",
       "0            1  0\n",
       "1            2  0\n",
       "2            3  1\n",
       "3            4  0\n",
       "4            5  0\n",
       "...        ... ..\n",
       "4995      4996  0\n",
       "4996      4997  0\n",
       "4997      4998  0\n",
       "4998      4999  0\n",
       "4999      5000  0\n",
       "\n",
       "[5000 rows x 2 columns]"
      ]
     },
     "execution_count": 46,
     "metadata": {},
     "output_type": "execute_result"
    }
   ],
   "source": [
    "dff3"
   ]
  },
  {
   "cell_type": "code",
   "execution_count": null,
   "metadata": {},
   "outputs": [],
   "source": []
  }
 ],
 "metadata": {
  "kernelspec": {
   "display_name": "Python 3",
   "language": "python",
   "name": "python3"
  },
  "language_info": {
   "codemirror_mode": {
    "name": "ipython",
    "version": 3
   },
   "file_extension": ".py",
   "mimetype": "text/x-python",
   "name": "python",
   "nbconvert_exporter": "python",
   "pygments_lexer": "ipython3",
   "version": "3.8.3"
  }
 },
 "nbformat": 4,
 "nbformat_minor": 4
}
